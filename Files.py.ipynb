{
 "cells": [
  {
   "cell_type": "code",
   "execution_count": 14,
   "id": "976f21be",
   "metadata": {},
   "outputs": [],
   "source": [
    "def read_file():\n",
    "    file_handler = open(\"egypt1.txt\", \"w\")\n",
    "    file_handler.writelines([\"it is added data\",\"new one\"])\n",
    "   \n",
    "    file_handler.close()\n",
    "\n",
    "def main():\n",
    "    read_file()\n",
    "    \n",
    "if __name__ == \"__main__\":\n",
    "    main()\n"
   ]
  },
  {
   "cell_type": "code",
   "execution_count": 5,
   "id": "0fd9eb22",
   "metadata": {},
   "outputs": [
    {
     "name": "stdout",
     "output_type": "stream",
     "text": [
      "oops!\n"
     ]
    }
   ],
   "source": [
    "try:\n",
    "    f = open(\"egypt2.txt\", \"r+\")\n",
    "    f.write('Hello World!')\n",
    "    \n",
    "except IOError:\n",
    "     print('oops!')\n",
    "finally:\n",
    "    f.close()\n",
    "\n"
   ]
  },
  {
   "cell_type": "code",
   "execution_count": 19,
   "id": "f9c519c3",
   "metadata": {},
   "outputs": [
    {
     "name": "stdout",
     "output_type": "stream",
     "text": [
      "File Name is egypt.txt\n",
      "File State is False\n",
      "File Opening Mode is w\n"
     ]
    }
   ],
   "source": [
    "file_handler = open(\"egypt.txt\", \"w\")\n",
    "print(f\"File Name is {file_handler.name}\")\n",
    "\n",
    "print(f\"File State is {file_handler.closed}\")\n",
    "\n",
    "print(f\"File Opening Mode is {file_handler.mode}\")\n"
   ]
  },
  {
   "cell_type": "code",
   "execution_count": 9,
   "id": "9d804833",
   "metadata": {},
   "outputs": [
    {
     "name": "stdout",
     "output_type": "stream",
     "text": [
      "Print file contents as a list\n",
      "[\"National Treasures of Japan are the most precious of Japan's Tangible Cultural Properties.\\n\", 'A Tangible Cultural Property is considered to be of historic or artistic value, classified either as\\n', '\"buildings and structures\", or as \"fine arts and crafts\".\\n']\n"
     ]
    }
   ],
   "source": [
    "def main():\n",
    "    with open(\"Japan.txt\") as file_handler:\n",
    "        print(\"Print file contents as a list\")\n",
    "        print(file_handler.readlines())\n",
    "if __name__ == \"__main__\":\n",
    "     main()  \n"
   ]
  },
  {
   "cell_type": "code",
   "execution_count": null,
   "id": "ef8cc88f",
   "metadata": {},
   "outputs": [],
   "source": []
  },
  {
   "cell_type": "code",
   "execution_count": 2,
   "id": "a4e50617",
   "metadata": {},
   "outputs": [
    {
     "name": "stdout",
     "output_type": "stream",
     "text": [
      "Printing each line in text file\n",
      "Hello students! This is for \n",
      "\n",
      "testing purposes. No need to consider.\n",
      "\n",
      "try for execution.\n",
      "\n",
      "All the Best.\n"
     ]
    }
   ],
   "source": [
    "def read_file():\n",
    "    print(\"Printing each line in text file\")\n",
    "    with open(\"egypt.txt\") as file_handler:\n",
    "        for each_line in file_handler:\n",
    "            print(each_line)\n",
    "\n",
    "def main():\n",
    "     read_file()\n",
    "        \n",
    "if __name__ == \"__main__\":\n",
    "     main()\n"
   ]
  },
  {
   "cell_type": "code",
   "execution_count": 23,
   "id": "6e9530b3",
   "metadata": {},
   "outputs": [
    {
     "name": "stdout",
     "output_type": "stream",
     "text": [
      "0\n",
      "10\n",
      "b'natur'\n",
      "31\n"
     ]
    },
    {
     "data": {
      "text/plain": [
       "b'art'"
      ]
     },
     "execution_count": 23,
     "metadata": {},
     "output_type": "execute_result"
    }
   ],
   "source": [
    "file_handler = open(\"moon.txt\",\"w\")\n",
    "file_handler.writelines([\"Moon is a natural satellite\",\"of Earth\"])\n",
    "#file_handler.tell()\n",
    "file_handler=open( \"moon.txt\",\"rb+\")\n",
    "print(file_handler.tell())\n",
    "print(file_handler.seek(10,0))\n",
    "print(file_handler.read(5))\n",
    "print(file_handler.seek(-4,2))\n",
    "file_handler.read(3)"
   ]
  },
  {
   "cell_type": "raw",
   "id": "3d8ec056",
   "metadata": {},
   "source": [
    "def main():\n",
    "    with open(\"work.exe\", \"wb\") as f:\n",
    "        f.write(b'abcdef')\n",
    "\n",
    "    with open(\"work.exe\", \"rb\") as f:\n",
    "        byte = f.read(1)\n",
    "        print(\"Print each byte in the file\")\n",
    "        while byte:\n",
    "            print(byte)\n",
    "            byte = f.read(1)\n",
    "\n",
    "\n",
    "if __name__ == \"__main__\":\n",
    "       main()\n"
   ]
  },
  {
   "cell_type": "code",
   "execution_count": 24,
   "id": "598db01c",
   "metadata": {},
   "outputs": [
    {
     "name": "stdout",
     "output_type": "stream",
     "text": [
      "Print each row in CSV file\n",
      "Enrollment No..Roll No..Student Name.Section.Column1\n",
      "210962052.1.SIDDHANT KUMAR.B.\n",
      "210962055.2.NANDHANA SANTHOSH CHEEROTH.B.\n",
      "210962108.3.SEVVA NITHIN SRINIVAS.B.\n",
      "210962176.4.SAI HARSHINI U.B.\n",
      "220962001.5.BHARATH KUMAR.B.\n",
      "220962003.6.SUCHIT GUPTA.B.\n",
      "220962004.7.VARUN PRABHU SHIVAPRASAD.B.\n",
      "220962012.8.YASHAS S.B.\n",
      "220962013.9.NIKHIL NAIR.B.\n",
      "220962021.10.ARNAV SANJAY KARNIK.B.\n",
      "220962026.11.AKULA OMKAR.B.\n",
      "220962032.12.ARHAM DUGAR.B.\n"
     ]
    }
   ],
   "source": [
    "import csv\n",
    "\n",
    "\n",
    "def main():\n",
    "    with open('sample.csv', newline='') as csvfile:\n",
    "        csv_reader = csv.reader(csvfile)\n",
    "        print(\"Print each row in CSV file\")\n",
    "        for each_row in csv_reader:\n",
    "            print(\".\".join(each_row))\n",
    "\n",
    "\n",
    "if __name__ == \"__main__\":\n",
    "    main()"
   ]
  },
  {
   "cell_type": "code",
   "execution_count": 25,
   "id": "699b6c48",
   "metadata": {},
   "outputs": [],
   "source": [
    "import csv\n",
    "\n",
    "\n",
    "def main():\n",
    "    csv_header_name = ['Category', 'Winner', 'Film', 'Year']\n",
    "    each_row = [['Best Picture', 'Doug Mitchell and George Miller', 'Mad Max: Fury Road', '2015'],\n",
    "                ['Visual Effects', 'Richard Stammers', 'X - Men: Days of Future Past', '2014'],\n",
    "                ['Best Picture', 'Martin Scorsese and Leonardo DiCaprio', 'The Wolf of Wall Street', '2013'],\n",
    "                ['Music(Original Song)', 'Adele Adkins and Paul Epworth', 'Skyfall from Skyfall', '2012']]\n",
    "\n",
    "    with open('oscars.csv', 'w', newline='') as csvfile:\n",
    "        csv_writer = csv.writer(csvfile)\n",
    "        csv_writer.writerow(csv_header_name)\n",
    "        csv_writer.writerows(each_row)\n",
    "\n",
    "\n",
    "if __name__ == \"__main__\":\n",
    "    main()"
   ]
  },
  {
   "cell_type": "code",
   "execution_count": 26,
   "id": "c5184a37",
   "metadata": {},
   "outputs": [
    {
     "name": "stdout",
     "output_type": "stream",
     "text": [
      "True\n"
     ]
    }
   ],
   "source": [
    "for i in range(5):\n",
    "    with open(\"data.txt\", \"w\") as f:\n",
    "        if i > 0:\n",
    "            break\n",
    "    print(f.closed)"
   ]
  },
  {
   "cell_type": "code",
   "execution_count": 4,
   "id": "054c4630",
   "metadata": {},
   "outputs": [
    {
     "name": "stdout",
     "output_type": "stream",
     "text": [
      "good\n"
     ]
    }
   ],
   "source": [
    "try:\n",
    "    f = open(\"moon1.txt\", \"w\")\n",
    "\n",
    "    try:\n",
    "        f.write ('Hello World')\n",
    "    finally:\n",
    "        f.close()\n",
    "        print('good')\n",
    "\n",
    "except IOError:\n",
    "    print('oops!')\n",
    "\n"
   ]
  },
  {
   "cell_type": "code",
   "execution_count": null,
   "id": "24abcbe9",
   "metadata": {},
   "outputs": [],
   "source": []
  }
 ],
 "metadata": {
  "kernelspec": {
   "display_name": "Python 3 (ipykernel)",
   "language": "python",
   "name": "python3"
  },
  "language_info": {
   "codemirror_mode": {
    "name": "ipython",
    "version": 3
   },
   "file_extension": ".py",
   "mimetype": "text/x-python",
   "name": "python",
   "nbconvert_exporter": "python",
   "pygments_lexer": "ipython3",
   "version": "3.11.3"
  }
 },
 "nbformat": 4,
 "nbformat_minor": 5
}
