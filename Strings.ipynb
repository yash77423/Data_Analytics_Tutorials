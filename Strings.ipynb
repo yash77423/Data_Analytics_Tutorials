{
 "cells": [
  {
   "cell_type": "code",
   "execution_count": 8,
   "id": "e5e740f9",
   "metadata": {
    "slideshow": {
     "slide_type": "-"
    }
   },
   "outputs": [],
   "source": [
    "def main():\n",
    "    inputstr= input(\"enter input string\")\n",
    "    if(inputstr)== inputstr[::-1]:\n",
    "        print(f\" Input string {inputstr} is a Palindrome\")\n",
    "    else:\n",
    "        print(f\"Input string {inputstr} is NOT a Palindrome\")\n",
    "if __name__==\"__main__\":\n",
    "    main()"
   ]
  },
  {
   "cell_type": "code",
   "execution_count": null,
   "id": "3301631e",
   "metadata": {},
   "outputs": [],
   "source": []
  },
  {
   "cell_type": "code",
   "execution_count": 1,
   "id": "b446527d",
   "metadata": {},
   "outputs": [
    {
     "ename": "IndentationError",
     "evalue": "expected an indented block after 'for' statement on line 2 (4278687608.py, line 3)",
     "output_type": "error",
     "traceback": [
      "\u001b[1;36m  Cell \u001b[1;32mIn[1], line 3\u001b[1;36m\u001b[0m\n\u001b[1;33m    print(i, j)\u001b[0m\n\u001b[1;37m    ^\u001b[0m\n\u001b[1;31mIndentationError\u001b[0m\u001b[1;31m:\u001b[0m expected an indented block after 'for' statement on line 2\n"
     ]
    }
   ],
   "source": [
    "week = {1:\"sunday\", 2:\"monday\", 3:\"tuesday\"}\n",
    "for i,j in week.items():\n",
    "    print(i, j)"
   ]
  },
  {
   "cell_type": "code",
   "execution_count": null,
   "id": "3812b602",
   "metadata": {},
   "outputs": [],
   "source": [
    "year = int(input('Enter a year'))\n",
    "if year % 4 == 0:\n",
    "    if year % 100 == 0:\n",
    "        if year % 400 == 0:\n",
    "            print(f'{year} is a Leap Year')\n",
    "        else:\n",
    "            print(f'{year} is not a Leap Year')\n",
    "    else:\n",
    "        print(f'{year} is a Leap Year')\n",
    "else:\n",
    "    print(f'{year} is not a Leap Year')\n"
   ]
  },
  {
   "cell_type": "code",
   "execution_count": null,
   "id": "95fd07a2",
   "metadata": {},
   "outputs": [],
   "source": [
    "matrix= [[1,2,3],[4,5,6]]\n",
    "v = matrix[0][0]\n",
    "for row in range(0, len(matrix)):\n",
    "    for column in range(0, len(matrix[row])):\n",
    "        if v < matrix[row][column]:\n",
    "            v = matrix[row][column]\n",
    "print(v)"
   ]
  },
  {
   "cell_type": "code",
   "execution_count": 2,
   "id": "e4240f97",
   "metadata": {},
   "outputs": [
    {
     "name": "stdout",
     "output_type": "stream",
     "text": [
      "Or operation\n"
     ]
    }
   ],
   "source": [
    "if False and False:\n",
    "    print(\"And Operation\")\n",
    "elif True or False:\n",
    "    print(\"Or operation\")\n",
    "else:\n",
    "    print(\"Default case\")"
   ]
  },
  {
   "cell_type": "code",
   "execution_count": 3,
   "id": "55d7e770",
   "metadata": {},
   "outputs": [
    {
     "name": "stdout",
     "output_type": "stream",
     "text": [
      "1\n"
     ]
    }
   ],
   "source": [
    "i = 1\n",
    "while True:\n",
    "    if i%2 == 0:\n",
    "      break\n",
    "    print(i)\n",
    "    i += 1"
   ]
  },
  {
   "cell_type": "code",
   "execution_count": 4,
   "id": "34a3a3e9",
   "metadata": {},
   "outputs": [
    {
     "name": "stdout",
     "output_type": "stream",
     "text": [
      "0\n",
      "1\n",
      "2\n",
      "3\n",
      "4\n"
     ]
    }
   ],
   "source": [
    "for i in range(10):\n",
    "    if i == 5:\n",
    "        break\n",
    "    else:\n",
    "         print(i)"
   ]
  },
  {
   "cell_type": "code",
   "execution_count": 9,
   "id": "30b3d375",
   "metadata": {},
   "outputs": [
    {
     "ename": "ValueError",
     "evalue": "invalid literal for int() with base 10: '56.5'",
     "output_type": "error",
     "traceback": [
      "\u001b[1;31m---------------------------------------------------------------------------\u001b[0m",
      "\u001b[1;31mValueError\u001b[0m                                Traceback (most recent call last)",
      "Cell \u001b[1;32mIn[9], line 1\u001b[0m\n\u001b[1;32m----> 1\u001b[0m \u001b[38;5;28mint\u001b[39m(\u001b[38;5;124m\"\u001b[39m\u001b[38;5;124m56.5\u001b[39m\u001b[38;5;124m\"\u001b[39m)\n",
      "\u001b[1;31mValueError\u001b[0m: invalid literal for int() with base 10: '56.5'"
     ]
    }
   ],
   "source": [
    "int(\"56.5\")"
   ]
  },
  {
   "cell_type": "code",
   "execution_count": 10,
   "id": "bb0d77cf",
   "metadata": {},
   "outputs": [
    {
     "data": {
      "text/plain": [
       "(0, 10)"
      ]
     },
     "execution_count": 10,
     "metadata": {},
     "output_type": "execute_result"
    }
   ],
   "source": [
    "divmod(10,20)"
   ]
  },
  {
   "cell_type": "code",
   "execution_count": 11,
   "id": "c288f0bd",
   "metadata": {},
   "outputs": [
    {
     "name": "stdout",
     "output_type": "stream",
     "text": [
      "Python Programming!\n"
     ]
    }
   ],
   "source": [
    "def tweet():\n",
    "          print(\"Python Programming!\")\n",
    "tweet()"
   ]
  },
  {
   "cell_type": "code",
   "execution_count": 12,
   "id": "2fda35ef",
   "metadata": {},
   "outputs": [
    {
     "data": {
      "text/plain": [
       "6.0"
      ]
     },
     "execution_count": 12,
     "metadata": {},
     "output_type": "execute_result"
    }
   ],
   "source": [
    "import math\n",
    "math.sqrt(36)"
   ]
  },
  {
   "cell_type": "code",
   "execution_count": 13,
   "id": "40326dff",
   "metadata": {},
   "outputs": [
    {
     "name": "stdout",
     "output_type": "stream",
     "text": [
      "newline\n"
     ]
    }
   ],
   "source": [
    "print('new' 'line')\n"
   ]
  },
  {
   "cell_type": "code",
   "execution_count": 14,
   "id": "1a351fd0",
   "metadata": {},
   "outputs": [
    {
     "data": {
      "text/plain": [
       "12"
      ]
     },
     "execution_count": 14,
     "metadata": {},
     "output_type": "execute_result"
    }
   ],
   "source": [
    "x = 15\n",
    "y = 12\n",
    "x & y"
   ]
  },
  {
   "cell_type": "code",
   "execution_count": 15,
   "id": "b5ad0b80",
   "metadata": {},
   "outputs": [
    {
     "name": "stdout",
     "output_type": "stream",
     "text": [
      "False\n"
     ]
    }
   ],
   "source": [
    "print (0.1 + 0.2 == 0.3)"
   ]
  },
  {
   "cell_type": "code",
   "execution_count": 16,
   "id": "745c3567",
   "metadata": {},
   "outputs": [
    {
     "data": {
      "text/plain": [
       "0.30000000000000004"
      ]
     },
     "execution_count": 16,
     "metadata": {},
     "output_type": "execute_result"
    }
   ],
   "source": [
    "0.1+0.2"
   ]
  },
  {
   "cell_type": "code",
   "execution_count": null,
   "id": "3d91b71f",
   "metadata": {},
   "outputs": [],
   "source": []
  }
 ],
 "metadata": {
  "kernelspec": {
   "display_name": "Python 3 (ipykernel)",
   "language": "python",
   "name": "python3"
  },
  "language_info": {
   "codemirror_mode": {
    "name": "ipython",
    "version": 3
   },
   "file_extension": ".py",
   "mimetype": "text/x-python",
   "name": "python",
   "nbconvert_exporter": "python",
   "pygments_lexer": "ipython3",
   "version": "3.11.3"
  }
 },
 "nbformat": 4,
 "nbformat_minor": 5
}
