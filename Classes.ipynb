{
 "cells": [
  {
   "cell_type": "code",
   "execution_count": 1,
   "id": "6ce1b25d",
   "metadata": {},
   "outputs": [
    {
     "name": "stdout",
     "output_type": "stream",
     "text": [
      "This message is from Constructor Method\n",
      "Receive message using Mobile\n",
      "Send message using Mobile\n"
     ]
    }
   ],
   "source": [
    "class Mobile:\n",
    "\n",
    "    def __init__(self):\n",
    "        print(\"This message is from Constructor Method\")\n",
    "\n",
    "    def receive_message(self):\n",
    "        print(\"Receive message using Mobile\")\n",
    "\n",
    "    def send_message(self):\n",
    "        print(\"Send message using Mobile\")\n",
    "\n",
    "\n",
    "def main():\n",
    "    nokia = Mobile()\n",
    "    nokia.receive_message()\n",
    "    nokia.send_message()\n",
    "\n",
    "\n",
    "if __name__ == \"__main__\":\n",
    "    main()"
   ]
  },
  {
   "cell_type": "code",
   "execution_count": 4,
   "id": "d1621169",
   "metadata": {},
   "outputs": [
    {
     "name": "stdout",
     "output_type": "stream",
     "text": [
      "Angle is 79\n",
      "Radius is 99\n",
      "Length of an Arc is 136.50220079847654\n"
     ]
    }
   ],
   "source": [
    "import math\n",
    "\n",
    "class ArcLength:\n",
    "    def __init__(self):\n",
    "        self.radius = 0\n",
    "        self.angle = 0\n",
    "\n",
    "    def calculate_arc_length(self):\n",
    "        result = 2 * math.pi * self.radius * self.angle / 360\n",
    "        print(f\"Length of an Arc is {result}\")\n",
    "\n",
    "al = ArcLength()\n",
    "al.radius = 99\n",
    "al.angle = 79\n",
    "print(f\"Angle is {al.angle}\")\n",
    "print(f\"Radius is {al.radius}\")\n",
    "al.calculate_arc_length()"
   ]
  },
  {
   "cell_type": "code",
   "execution_count": 5,
   "id": "cbe8c978",
   "metadata": {},
   "outputs": [
    {
     "name": "stdout",
     "output_type": "stream",
     "text": [
      "Griffon Vulture flies above clouds\n",
      "Common Crane flies above clouds\n",
      "Emu is the national bird of Australia\n"
     ]
    }
   ],
   "source": [
    "class Birds:\n",
    "\n",
    "    def __init__(self, bird_name):\n",
    "        self.bird_name = bird_name\n",
    "\n",
    "    def flying_birds(self):\n",
    "        print(f\"{self.bird_name} flies above clouds\")\n",
    "\n",
    "    def non_flying_birds(self):\n",
    "        print(f\"{self.bird_name} is the national bird of Australia\")\n",
    "\n",
    "def main():\n",
    "    vulture = Birds(\"Griffon Vulture\")\n",
    "    crane = Birds(\"Common Crane\")\n",
    "    emu = Birds(\"Emu\")\n",
    "    vulture.flying_birds()\n",
    "    crane.flying_birds()\n",
    "    emu.non_flying_birds()\n",
    "\n",
    "if __name__ == \"__main__\":\n",
    "    main()"
   ]
  },
  {
   "cell_type": "code",
   "execution_count": 7,
   "id": "56cea6c4",
   "metadata": {},
   "outputs": [
    {
     "name": "stdout",
     "output_type": "stream",
     "text": [
      "Olivia has deposited an amount of 10000.0 dollars\n",
      "Olivia has a balance of 10000.0 dollars\n",
      "You don't have sufficient funds in your account\n",
      "Olivia has a balance of 10000.0 dollars\n"
     ]
    }
   ],
   "source": [
    "class BankAccount:\n",
    "\n",
    "    def __init__(self, name):\n",
    "        self.user_name = name\n",
    "        self.balance = 0.0\n",
    "\n",
    "    def show_balance(self):\n",
    "        print(f\"{self.user_name} has a balance of {self.balance} dollars\")\n",
    "\n",
    "    def withdraw_money(self, amount):\n",
    "        if amount > self.balance:\n",
    "            print(\"You don't have sufficient funds in your account\")\n",
    "        else:\n",
    "            self.balance -= amount\n",
    "            print(f\"{self.user_name} has withdrawn an amount of {self.balance} dollars\")\n",
    "\n",
    "    def deposit_money(self, amount):\n",
    "        self.balance += amount\n",
    "        print(f\"{self.user_name} has deposited an amount of {self.balance} dollars\")\n",
    "\n",
    "\n",
    "def main():\n",
    "    savings_account = BankAccount(\"Olivia\")\n",
    "    savings_account.deposit_money(10000)\n",
    "    savings_account.show_balance()\n",
    "    savings_account.withdraw_money(50000)\n",
    "    savings_account.show_balance()\n",
    "\n",
    "\n",
    "if __name__ == \"__main__\":\n",
    "    main()"
   ]
  },
  {
   "cell_type": "code",
   "execution_count": 9,
   "id": "058b7383",
   "metadata": {},
   "outputs": [
    {
     "name": "stdout",
     "output_type": "stream",
     "text": [
      "Song is 'The First Time Ever I Saw Your Face'\n",
      "Song is 'BAC'\n",
      "Artist is 'Roberta Flack'\n"
     ]
    }
   ],
   "source": [
    "class Track:\n",
    "    def __init__(self, song, artist):\n",
    "        self.song = song\n",
    "        self.artist = artist\n",
    "\n",
    "\n",
    "def print_track_info(vocalist):\n",
    "    vocalist.song=\"BAC\"\n",
    "    print(f\"Song is '{vocalist.song}'\")\n",
    "    print(f\"Artist is '{vocalist.artist}'\")\n",
    "\n",
    "\n",
    "singer = Track(\"The First Time Ever I Saw Your Face\", \"Roberta Flack\")\n",
    "print(f\"Song is '{singer.song}'\")\n",
    "\n",
    "\n",
    "\n",
    "print_track_info(singer)"
   ]
  },
  {
   "cell_type": "code",
   "execution_count": 1,
   "id": "fb041e4c",
   "metadata": {},
   "outputs": [
    {
     "name": "stdout",
     "output_type": "stream",
     "text": [
      "Invoke Method having private instance\n",
      "I'm private instance used within method of a class\n",
      "Invoke non-private instance variable\n",
      "I'm not private instance\n",
      "Get attributes of object\n",
      "{'nonprivateinstance': \"I'm not private instance\", '_PrivateDemo__privateinstance': \"I'm private instance\"}\n",
      "Trying to access private instance variable outside the class results in error\n"
     ]
    },
    {
     "ename": "AttributeError",
     "evalue": "'PrivateDemo' object has no attribute '__privateinstance'",
     "output_type": "error",
     "traceback": [
      "\u001b[1;31m---------------------------------------------------------------------------\u001b[0m",
      "\u001b[1;31mAttributeError\u001b[0m                            Traceback (most recent call last)",
      "Cell \u001b[1;32mIn[1], line 22\u001b[0m\n\u001b[0;32m     19\u001b[0m     \u001b[38;5;28mprint\u001b[39m(demo\u001b[38;5;241m.\u001b[39m__privateinstance)\n\u001b[0;32m     21\u001b[0m \u001b[38;5;28;01mif\u001b[39;00m \u001b[38;5;18m__name__\u001b[39m \u001b[38;5;241m==\u001b[39m \u001b[38;5;124m\"\u001b[39m\u001b[38;5;124m__main__\u001b[39m\u001b[38;5;124m\"\u001b[39m:\n\u001b[1;32m---> 22\u001b[0m         main()\n",
      "Cell \u001b[1;32mIn[1], line 19\u001b[0m, in \u001b[0;36mmain\u001b[1;34m()\u001b[0m\n\u001b[0;32m     17\u001b[0m \u001b[38;5;28mprint\u001b[39m(demo\u001b[38;5;241m.\u001b[39m\u001b[38;5;18m__dict__\u001b[39m)\n\u001b[0;32m     18\u001b[0m \u001b[38;5;28mprint\u001b[39m(\u001b[38;5;124m\"\u001b[39m\u001b[38;5;124mTrying to access private instance variable outside the class results in error\u001b[39m\u001b[38;5;124m\"\u001b[39m)\n\u001b[1;32m---> 19\u001b[0m \u001b[38;5;28mprint\u001b[39m(demo\u001b[38;5;241m.\u001b[39m__privateinstance)\n",
      "\u001b[1;31mAttributeError\u001b[0m: 'PrivateDemo' object has no attribute '__privateinstance'"
     ]
    }
   ],
   "source": [
    "class PrivateDemo:\n",
    "    def __init__(self):\n",
    "        self.nonprivateinstance = \"I'm not private instance\"\n",
    "        self.__privateinstance = \"I'm private instance\"\n",
    "\n",
    "    def display_privateinstance(self):\n",
    "        print(f\"{self.__privateinstance} used within method of a class\")\n",
    "\n",
    "\n",
    "def main():\n",
    "    demo = PrivateDemo()\n",
    "    print(\"Invoke Method having private instance\")\n",
    "    (demo.display_privateinstance())\n",
    "    print(\"Invoke non-private instance variable\")\n",
    "    print(demo.nonprivateinstance)\n",
    "    print(\"Get attributes of object\")\n",
    "    print(demo.__dict__)\n",
    "    print(\"Trying to access private instance variable outside the class results in error\")\n",
    "    print(demo.__privateinstance)\n",
    "\n",
    "if __name__ == \"__main__\":\n",
    "        main()"
   ]
  },
  {
   "cell_type": "code",
   "execution_count": 5,
   "id": "34871037",
   "metadata": {},
   "outputs": [
    {
     "name": "stdout",
     "output_type": "stream",
     "text": [
      "Addition of two complex numbers 4 + 5i and 2 + 3i is 6 + 8i\n"
     ]
    }
   ],
   "source": [
    "class Complex:\n",
    "    def __init__(self, real, imaginary):\n",
    "        self.real = real\n",
    "        self.imaginary = imaginary\n",
    "\n",
    "    def __add__(self, other):\n",
    "        return Complex(self.real + other.real, self.imaginary + other.imaginary)\n",
    "\n",
    "    def __str__(self):\n",
    "        return f\"{self.real} + {self.imaginary}i\"\n",
    "\n",
    "\n",
    "def main():\n",
    "    complex_number_1 = Complex(4, 5)\n",
    "    complex_number_2 = Complex(2, 3)\n",
    "    complex_number_sum = complex_number_1 + complex_number_2\n",
    "    print(f\"Addition of two complex numbers {complex_number_1} and {complex_number_2} is {complex_number_sum}\")\n",
    "\n",
    "\n",
    "if __name__ == \"__main__\":\n",
    "    main()"
   ]
  },
  {
   "cell_type": "code",
   "execution_count": 5,
   "id": "9b23a7e2",
   "metadata": {},
   "outputs": [
    {
     "data": {
      "text/plain": [
       "(4+3j)"
      ]
     },
     "execution_count": 5,
     "metadata": {},
     "output_type": "execute_result"
    }
   ],
   "source": [
    "complex(4,3)"
   ]
  },
  {
   "cell_type": "code",
   "execution_count": 7,
   "id": "366c5c3b",
   "metadata": {},
   "outputs": [
    {
     "name": "stdout",
     "output_type": "stream",
     "text": [
      "Name is 'Python Data Analytics'\n",
      "id is 'B.Tech.'\n",
      "syllabus is 'IIIsem'\n"
     ]
    }
   ],
   "source": [
    "class course:\n",
    "    def __init__(self, id, name):\n",
    "        self.id = id\n",
    "        self.name = name\n",
    "\n",
    "\n",
    "def course_info(syllabus):\n",
    "    syllabus.id=\"B.Tech.\"\n",
    "    print(f\"id is '{syllabus.id}'\")\n",
    "    print(f\"syllabus is '{syllabus.name}'\")\n",
    "\n",
    "syllabus = course(\"Python Data Analytics\", \"IIIsem\")\n",
    "print(f\"Name is '{syllabus.id}'\")\n",
    "\n",
    "course_info(syllabus)"
   ]
  },
  {
   "cell_type": "code",
   "execution_count": 1,
   "id": "30cc1f7b",
   "metadata": {},
   "outputs": [
    {
     "name": "stdout",
     "output_type": "stream",
     "text": [
      "[[0 1 2]]\n",
      "[[3 4 5]\n",
      " [6 7 8]]\n",
      "[]\n"
     ]
    }
   ],
   "source": [
    "import numpy as np\n",
    "A=np.arange(9).reshape(3,3)\n",
    "[A1,A2,A3]=np.split(A,[1,3],axis=0)\n",
    "print(A1)\n",
    "print(A2)\n",
    "print(A3)"
   ]
  },
  {
   "cell_type": "code",
   "execution_count": 4,
   "id": "9c3fc521",
   "metadata": {},
   "outputs": [
    {
     "data": {
      "text/plain": [
       "array([[1., 1.],\n",
       "       [1., 1.]])"
      ]
     },
     "execution_count": 4,
     "metadata": {},
     "output_type": "execute_result"
    }
   ],
   "source": [
    "B=np.arange(4).reshape(2,2)\n",
    "C=np.ones(4).reshape(2,2)\n",
    "B\n",
    "C"
   ]
  },
  {
   "cell_type": "code",
   "execution_count": 7,
   "id": "ccc546d0",
   "metadata": {},
   "outputs": [
    {
     "data": {
      "text/plain": [
       "array([[0., 1.],\n",
       "       [2., 3.],\n",
       "       [1., 1.],\n",
       "       [1., 1.]])"
      ]
     },
     "execution_count": 7,
     "metadata": {},
     "output_type": "execute_result"
    }
   ],
   "source": [
    "np.vstack((B,C))"
   ]
  },
  {
   "cell_type": "code",
   "execution_count": 15,
   "id": "66eff5bb",
   "metadata": {},
   "outputs": [
    {
     "data": {
      "text/plain": [
       "array([[1., 1., 1., 1.]])"
      ]
     },
     "execution_count": 15,
     "metadata": {},
     "output_type": "execute_result"
    }
   ],
   "source": [
    "A=np.ones(4).reshape(2,2)\n",
    "A.shape=(1,4)\n",
    "print(A)\n",
    "\n"
   ]
  },
  {
   "cell_type": "code",
   "execution_count": null,
   "id": "a1b6c5f0",
   "metadata": {},
   "outputs": [],
   "source": []
  },
  {
   "cell_type": "code",
   "execution_count": null,
   "id": "4ff4ab91",
   "metadata": {},
   "outputs": [],
   "source": []
  }
 ],
 "metadata": {
  "kernelspec": {
   "display_name": "Python 3 (ipykernel)",
   "language": "python",
   "name": "python3"
  },
  "language_info": {
   "codemirror_mode": {
    "name": "ipython",
    "version": 3
   },
   "file_extension": ".py",
   "mimetype": "text/x-python",
   "name": "python",
   "nbconvert_exporter": "python",
   "pygments_lexer": "ipython3",
   "version": "3.11.3"
  }
 },
 "nbformat": 4,
 "nbformat_minor": 5
}
